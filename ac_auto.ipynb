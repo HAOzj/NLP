{
 "cells": [
  {
   "cell_type": "code",
   "execution_count": 1,
   "metadata": {},
   "outputs": [],
   "source": [
    "class Node():\n",
    "    def __init__(self):\n",
    "        self.word = \"\"\n",
    "        self.char = \"\"\n",
    "        self.next = []\n",
    "        self.isWord = False\n",
    "        \n",
    "class Ac_automaton():\n",
    "    \"\"\"AC自动机,用于匹配一个字符串中的单词.\n",
    "    \n",
    "    单词指的是一个给定字典中的元素.\n",
    "    \n",
    "    参考https://en.wikipedia.org/wiki/Aho%E2%80%93Corasick_algorithm\n",
    "    \"\"\"\n",
    "    def __init__(self):\n",
    "        self.root = Node()\n",
    "        \n",
    "    def add(self, word):\n",
    "        \"\"\"为字典添加单词.\n",
    "        \n",
    "        1. 开始时以根节点为当前节点\n",
    "        2. 从单词的第一个字符开始\n",
    "        3. 遍历当前节点的子节点\n",
    "        4. 找到单词从头到目前字符组成的子串对应的子节点,则该子节点变成当前节点;没找到则创建新的子节点作为当前节点\n",
    "        5. 跳到下一个字符,重复3和4,直到遍历完所有字符\n",
    "        \n",
    "        Args:\n",
    "            word(str) :- 字典中新增的单词\n",
    "        \"\"\"\n",
    "        # 1步\n",
    "        current = self.root # current记录字符在树中当前节点\n",
    "        \n",
    "        # 2步\n",
    "        for char in word:\n",
    "            exist = False\n",
    "            \n",
    "            # 3步\n",
    "            for child in current.next:\n",
    "                # 4步中找到子节点\n",
    "                if child.char == char:\n",
    "                    current = child\n",
    "                    exist = True\n",
    "                    break\n",
    "                    \n",
    "            # 4步中没找到\n",
    "            if exist == False:\n",
    "                nouveau = Node()\n",
    "                nouveau.word = current.word + char\n",
    "                nouveau.char = char\n",
    "                current.next.append(nouveau)\n",
    "                current = nouveau\n",
    "                \n",
    "            # 5步中遍历完所有字符\n",
    "            if current.word == word:\n",
    "                current.isWord = True\n",
    "                break"
   ]
  },
  {
   "cell_type": "code",
   "execution_count": 2,
   "metadata": {},
   "outputs": [],
   "source": [
    "ac = Ac_automaton()"
   ]
  },
  {
   "cell_type": "code",
   "execution_count": 3,
   "metadata": {},
   "outputs": [],
   "source": [
    "ac.add(\"你好\")"
   ]
  },
  {
   "cell_type": "code",
   "execution_count": 4,
   "metadata": {},
   "outputs": [],
   "source": [
    "ac.add(\"你来了\")"
   ]
  },
  {
   "cell_type": "code",
   "execution_count": 5,
   "metadata": {},
   "outputs": [
    {
     "name": "stdout",
     "output_type": "stream",
     "text": [
      "你\n",
      "你好\n"
     ]
    }
   ],
   "source": [
    "node = ac.root\n"
   ]
  },
  {
   "cell_type": "code",
   "execution_count": null,
   "metadata": {},
   "outputs": [],
   "source": []
  }
 ],
 "metadata": {
  "kernelspec": {
   "display_name": "Python 3",
   "language": "python",
   "name": "python3"
  },
  "language_info": {
   "codemirror_mode": {
    "name": "ipython",
    "version": 3
   },
   "file_extension": ".py",
   "mimetype": "text/x-python",
   "name": "python",
   "nbconvert_exporter": "python",
   "pygments_lexer": "ipython3",
   "version": "3.7.2"
  }
 },
 "nbformat": 4,
 "nbformat_minor": 2
}
